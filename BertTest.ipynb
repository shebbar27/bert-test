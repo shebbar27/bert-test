{
  "nbformat": 4,
  "nbformat_minor": 0,
  "metadata": {
    "colab": {
      "name": "BertTest.ipynb",
      "provenance": [],
      "authorship_tag": "ABX9TyN6NCKF6wnHVs/h9ljRHB9E",
      "include_colab_link": true
    },
    "kernelspec": {
      "name": "python3",
      "display_name": "Python 3"
    },
    "language_info": {
      "name": "python"
    }
  },
  "cells": [
    {
      "cell_type": "markdown",
      "metadata": {
        "id": "view-in-github",
        "colab_type": "text"
      },
      "source": [
        "<a href=\"https://colab.research.google.com/github/shebbar27/bert-test/blob/main/BertTest.ipynb\" target=\"_parent\"><img src=\"https://colab.research.google.com/assets/colab-badge.svg\" alt=\"Open In Colab\"/></a>"
      ]
    },
    {
      "cell_type": "code",
      "source": [
        "!pip install transformers"
      ],
      "metadata": {
        "colab": {
          "base_uri": "https://localhost:8080/"
        },
        "id": "hsUYSkPBKQUl",
        "outputId": "538173e2-aaec-4253-edaf-ceaaff7e674a"
      },
      "execution_count": null,
      "outputs": [
        {
          "output_type": "stream",
          "name": "stdout",
          "text": [
            "Requirement already satisfied: transformers in /usr/local/lib/python3.7/dist-packages (4.18.0)\n",
            "Requirement already satisfied: numpy>=1.17 in /usr/local/lib/python3.7/dist-packages (from transformers) (1.21.5)\n",
            "Requirement already satisfied: sacremoses in /usr/local/lib/python3.7/dist-packages (from transformers) (0.0.49)\n",
            "Requirement already satisfied: pyyaml>=5.1 in /usr/local/lib/python3.7/dist-packages (from transformers) (6.0)\n",
            "Requirement already satisfied: tokenizers!=0.11.3,<0.13,>=0.11.1 in /usr/local/lib/python3.7/dist-packages (from transformers) (0.11.6)\n",
            "Requirement already satisfied: importlib-metadata in /usr/local/lib/python3.7/dist-packages (from transformers) (4.11.3)\n",
            "Requirement already satisfied: requests in /usr/local/lib/python3.7/dist-packages (from transformers) (2.23.0)\n",
            "Requirement already satisfied: regex!=2019.12.17 in /usr/local/lib/python3.7/dist-packages (from transformers) (2019.12.20)\n",
            "Requirement already satisfied: tqdm>=4.27 in /usr/local/lib/python3.7/dist-packages (from transformers) (4.63.0)\n",
            "Requirement already satisfied: huggingface-hub<1.0,>=0.1.0 in /usr/local/lib/python3.7/dist-packages (from transformers) (0.5.1)\n",
            "Requirement already satisfied: filelock in /usr/local/lib/python3.7/dist-packages (from transformers) (3.6.0)\n",
            "Requirement already satisfied: packaging>=20.0 in /usr/local/lib/python3.7/dist-packages (from transformers) (21.3)\n",
            "Requirement already satisfied: typing-extensions>=3.7.4.3 in /usr/local/lib/python3.7/dist-packages (from huggingface-hub<1.0,>=0.1.0->transformers) (3.10.0.2)\n",
            "Requirement already satisfied: pyparsing!=3.0.5,>=2.0.2 in /usr/local/lib/python3.7/dist-packages (from packaging>=20.0->transformers) (3.0.7)\n",
            "Requirement already satisfied: zipp>=0.5 in /usr/local/lib/python3.7/dist-packages (from importlib-metadata->transformers) (3.7.0)\n",
            "Requirement already satisfied: idna<3,>=2.5 in /usr/local/lib/python3.7/dist-packages (from requests->transformers) (2.10)\n",
            "Requirement already satisfied: urllib3!=1.25.0,!=1.25.1,<1.26,>=1.21.1 in /usr/local/lib/python3.7/dist-packages (from requests->transformers) (1.24.3)\n",
            "Requirement already satisfied: chardet<4,>=3.0.2 in /usr/local/lib/python3.7/dist-packages (from requests->transformers) (3.0.4)\n",
            "Requirement already satisfied: certifi>=2017.4.17 in /usr/local/lib/python3.7/dist-packages (from requests->transformers) (2021.10.8)\n",
            "Requirement already satisfied: joblib in /usr/local/lib/python3.7/dist-packages (from sacremoses->transformers) (1.1.0)\n",
            "Requirement already satisfied: click in /usr/local/lib/python3.7/dist-packages (from sacremoses->transformers) (7.1.2)\n",
            "Requirement already satisfied: six in /usr/local/lib/python3.7/dist-packages (from sacremoses->transformers) (1.15.0)\n"
          ]
        }
      ]
    },
    {
      "cell_type": "code",
      "source": [
        "input_from_train_ds = [['Raise the ruby cup'],\n",
        "                       ['Fill a little into the cobalt basin'],\n",
        "                       ['Elevate the indigo grail'],\n",
        "                       ['Fill a little into the meager rectangular cardinal basin']];\n",
        "\n",
        "input_from_unseen_ds_similar = [['Choose the ruby cup'],\n",
        "                                ['Fill the cobalt basin slightly'],\n",
        "                                ['The indigo grail should be lifted'],\n",
        "                                ['Unload a little into the meager rectangular cardinal basin']];\n",
        "\n",
        "# \"\"\"\n",
        "input_from_unseen_ds_different = [['Drop the blue cup'],\n",
        "                                  ['Throw the red basin far away'],\n",
        "                                  ['The green box should be thrown away'],\n",
        "                                  ['Fill a lot into the circular bowl']];\n",
        "# \"\"\"\n",
        "\n",
        "\"\"\"\n",
        "input_from_unseen_ds_different = [['Hope this model works fine'],\n",
        "                                  ['The distance should be measured correctly'],\n",
        "                                  ['How to measure 3D vector distance'],\n",
        "                                  ['Are we using the model properly?']];\n",
        "\"\"\""
      ],
      "metadata": {
        "id": "4nE82HYxHpxT",
        "colab": {
          "base_uri": "https://localhost:8080/",
          "height": 52
        },
        "outputId": "c7df9c27-a590-4421-9b7a-5a30315c8118"
      },
      "execution_count": null,
      "outputs": [
        {
          "output_type": "execute_result",
          "data": {
            "text/plain": [
              "\"\\ninput_from_unseen_ds_different = [['Hope this model works fine'],\\n                                  ['The distance should be measured correctly'],\\n                                  ['How to measure 3D vector distance'],\\n                                  ['Are we using the model properly?']];\\n\""
            ],
            "application/vnd.google.colaboratory.intrinsic+json": {
              "type": "string"
            }
          },
          "metadata": {},
          "execution_count": 95
        }
      ]
    },
    {
      "cell_type": "code",
      "source": [
        "import numpy as np\n",
        "import sklearn.metrics.pairwise as pairwise\n",
        "from tensorflow.python.ops.numpy_ops import np_config\n",
        "from transformers import BertTokenizer, TFBertModel\n",
        "\n",
        "np_config.enable_numpy_behavior()\n",
        "\n",
        "LANGUAGE_TOKEN_MAX_LENGTH = 15\n",
        "\n",
        "bertModel = TFBertModel.from_pretrained(\"bert-base-cased\", \n",
        "                                      output_hidden_states = True)\n",
        "bertModel.summary()\n",
        "\n",
        "def tokenizeForBert(language):\n",
        "  tokenizer = BertTokenizer.from_pretrained(\"bert-base-cased\")\n",
        "  bertTokens = tokenizer(\n",
        "      language, \n",
        "      return_tensors='np',\n",
        "      add_special_tokens=False, \n",
        "      return_attention_mask=False, \n",
        "      return_token_type_ids=False,\n",
        "      max_length=LANGUAGE_TOKEN_MAX_LENGTH,\n",
        "      padding='max_length')\n",
        "  return bertTokens\n",
        "\n",
        "def getBertOutput(tokens): \n",
        "  output = bertModel(tokens)\n",
        "  return output['last_hidden_state'][0]\n",
        "\n",
        "def getBertEmbeddings(languageInputs):\n",
        "  bertEmbeddings = []\n",
        "  for language in languageInputs:\n",
        "    tokens = tokenizeForBert(language)\n",
        "    bertOutput = getBertOutput(tokens)\n",
        "    bertEmbeddings.append(bertOutput)\n",
        "  return bertEmbeddings\n",
        "\n",
        "def distanceBetweenVectors(vector1, vector2):\n",
        "  return np.linalg.norm(vector1 - vector2)\n",
        "\n",
        "def distanceBetweenBertEmbeddings(bertEmbeddings1, bertEmbeddings2):\n",
        "  sentenceDistances = []\n",
        "  for (array2d_1, array2d_2) in zip(bertEmbeddings1, bertEmbeddings2):\n",
        "    distance = distanceBetweenVectors(array2d_1, array2d_2)\n",
        "    sentenceDistances.append(distance)\n",
        "  return sentenceDistances\n",
        "\n",
        "def cosineSimilarityBetweenBertEmbeddings(bertEmbeddings1, bertEmbeddings2):\n",
        "  sentenceSimilarity = []\n",
        "  for (array2d_1, array2d_2) in zip(bertEmbeddings1, bertEmbeddings2):\n",
        "    kernelMatrix = pairwise.cosine_similarity(array2d_1.transpose(), array2d_2.transpose())\n",
        "    averageSimilarity = np.mean(kernelMatrix)\n",
        "    sentenceSimilarity.append(averageSimilarity)\n",
        "  return sentenceSimilarity"
      ],
      "metadata": {
        "colab": {
          "base_uri": "https://localhost:8080/"
        },
        "id": "P21RPiC7KnUU",
        "outputId": "71ab93f0-5041-460c-9e03-88aaf139ea1d"
      },
      "execution_count": null,
      "outputs": [
        {
          "output_type": "stream",
          "name": "stderr",
          "text": [
            "Some layers from the model checkpoint at bert-base-cased were not used when initializing TFBertModel: ['nsp___cls', 'mlm___cls']\n",
            "- This IS expected if you are initializing TFBertModel from the checkpoint of a model trained on another task or with another architecture (e.g. initializing a BertForSequenceClassification model from a BertForPreTraining model).\n",
            "- This IS NOT expected if you are initializing TFBertModel from the checkpoint of a model that you expect to be exactly identical (initializing a BertForSequenceClassification model from a BertForSequenceClassification model).\n",
            "All the layers of TFBertModel were initialized from the model checkpoint at bert-base-cased.\n",
            "If your task is similar to the task the model of the checkpoint was trained on, you can already use TFBertModel for predictions without further training.\n"
          ]
        },
        {
          "output_type": "stream",
          "name": "stdout",
          "text": [
            "Model: \"tf_bert_model_21\"\n",
            "_________________________________________________________________\n",
            " Layer (type)                Output Shape              Param #   \n",
            "=================================================================\n",
            " bert (TFBertMainLayer)      multiple                  108310272 \n",
            "                                                                 \n",
            "=================================================================\n",
            "Total params: 108,310,272\n",
            "Trainable params: 108,310,272\n",
            "Non-trainable params: 0\n",
            "_________________________________________________________________\n"
          ]
        }
      ]
    },
    {
      "cell_type": "code",
      "source": [
        "output_of_train_ds = getBertEmbeddings(input_from_train_ds)\n",
        "output_of_unseen_ds_similar = getBertEmbeddings(input_from_unseen_ds_similar)\n",
        "output_of_unseen_ds_different = getBertEmbeddings(input_from_unseen_ds_different)\n",
        "\n",
        "embeddingDistancesSimilar = distanceBetweenBertEmbeddings(output_of_train_ds, output_of_unseen_ds_similar)\n",
        "cosineSimilarity = cosineSimilarityBetweenBertEmbeddings(output_of_train_ds, output_of_unseen_ds_similar)\n",
        "print(\"Bert Embedding distances for similar language inputs: \")\n",
        "for i in range(len(input_from_train_ds)):\n",
        "  print(f\"Trained Input: {input_from_train_ds[i]}\")\n",
        "  print(f\"Unseen Input Similar: {input_from_unseen_ds_similar[i]}\")\n",
        "  print(f\"Vector distance between Bert Embeddings: {embeddingDistancesSimilar[i]}\")\n",
        "  print(f\"Pairwise cosine similarity between Bert Embeddings: {cosineSimilarity[i]}\")\n",
        "  print()\n",
        "\n",
        "embeddingDistancesDifferent = distanceBetweenBertEmbeddings(output_of_train_ds, output_of_unseen_ds_different)\n",
        "cosineSimilarity = cosineSimilarityBetweenBertEmbeddings(output_of_train_ds, output_of_unseen_ds_different)\n",
        "print(\"Bert Embedding distances for different language inputs: \")\n",
        "for i in range(len(input_from_train_ds)):\n",
        "  print(f\"Trained Input: {input_from_train_ds[i]}\")\n",
        "  print(f\"Unseen Input Different: {input_from_unseen_ds_different[i]}\")\n",
        "  print(f\"Vector distance between Bert Embeddings: {embeddingDistancesDifferent[i]}\")\n",
        "  print(f\"Pairwise cosine similarity between Bert Embeddings: {cosineSimilarity[i]}\")\n",
        "  print()"
      ],
      "metadata": {
        "colab": {
          "base_uri": "https://localhost:8080/"
        },
        "id": "w_2_3nXOK4Uc",
        "outputId": "e325d44a-ad11-4848-bbac-189af9f0bd80"
      },
      "execution_count": null,
      "outputs": [
        {
          "output_type": "stream",
          "name": "stdout",
          "text": [
            "Bert Embedding distances for similar language inputs: \n",
            "Trained Input: ['Raise the ruby cup']\n",
            "Unseen Input Similar: ['Choose the ruby cup']\n",
            "Vector distance between Bert Embeddings: 22.88295555114746\n",
            "Pairwise cosine similarity between Bert Embeddings: 4.6046403440413997e-05\n",
            "\n",
            "Trained Input: ['Fill a little into the cobalt basin']\n",
            "Unseen Input Similar: ['Fill the cobalt basin slightly']\n",
            "Vector distance between Bert Embeddings: 60.26710891723633\n",
            "Pairwise cosine similarity between Bert Embeddings: 7.5678457506001e-05\n",
            "\n",
            "Trained Input: ['Elevate the indigo grail']\n",
            "Unseen Input Similar: ['The indigo grail should be lifted']\n",
            "Vector distance between Bert Embeddings: 33.4623908996582\n",
            "Pairwise cosine similarity between Bert Embeddings: 0.00027569176745601\n",
            "\n",
            "Trained Input: ['Fill a little into the meager rectangular cardinal basin']\n",
            "Unseen Input Similar: ['Unload a little into the meager rectangular cardinal basin']\n",
            "Vector distance between Bert Embeddings: 35.540931701660156\n",
            "Pairwise cosine similarity between Bert Embeddings: 0.0003749837924260646\n",
            "\n",
            "Bert Embedding distances for different language inputs: \n",
            "Trained Input: ['Raise the ruby cup']\n",
            "Unseen Input Different: ['Drop the blue cup']\n",
            "Vector distance between Bert Embeddings: 32.06540298461914\n",
            "Pairwise cosine similarity between Bert Embeddings: 5.862563557457179e-05\n",
            "\n",
            "Trained Input: ['Fill a little into the cobalt basin']\n",
            "Unseen Input Different: ['Throw the red basin far away']\n",
            "Vector distance between Bert Embeddings: 63.011070251464844\n",
            "Pairwise cosine similarity between Bert Embeddings: 3.492376345093362e-05\n",
            "\n",
            "Trained Input: ['Elevate the indigo grail']\n",
            "Unseen Input Different: ['The green box should be thrown away']\n",
            "Vector distance between Bert Embeddings: 35.6954345703125\n",
            "Pairwise cosine similarity between Bert Embeddings: 0.00015236057515721768\n",
            "\n",
            "Trained Input: ['Fill a little into the meager rectangular cardinal basin']\n",
            "Unseen Input Different: ['Fill a lot into the circular bowl']\n",
            "Vector distance between Bert Embeddings: 55.38069534301758\n",
            "Pairwise cosine similarity between Bert Embeddings: 9.448399214306846e-05\n",
            "\n"
          ]
        }
      ]
    }
  ]
}